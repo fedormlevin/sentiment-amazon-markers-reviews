{
 "cells": [
  {
   "cell_type": "code",
   "execution_count": 80,
   "metadata": {},
   "outputs": [],
   "source": [
    "#import all the libraries\n",
    "import pandas as pd\n",
    "import numpy as np\n",
    "from sklearn.model_selection import train_test_split\n",
    "from sklearn.feature_extraction.text import CountVectorizer\n",
    "from sklearn.linear_model import LogisticRegression\n",
    "from sklearn.metrics import roc_auc_score\n",
    "from sklearn.feature_extraction.text import TfidfVectorizer\n",
    "from sklearn.dummy import DummyClassifier\n",
    "import nltk, re, pprint\n",
    "import matplotlib.pyplot as plt\n",
    "import seaborn as sns\n",
    "from sklearn import metrics\n",
    "\n",
    "\n",
    "from sklearn.model_selection import train_test_split, GridSearchCV, cross_val_score, RepeatedStratifiedKFold, StratifiedKFold\n",
    "from sklearn.metrics import accuracy_score, confusion_matrix,roc_curve, roc_auc_score, precision_score, recall_score, precision_recall_curve\n",
    "from sklearn.metrics import f1_score"
   ]
  },
  {
   "cell_type": "code",
   "execution_count": 2,
   "metadata": {},
   "outputs": [],
   "source": [
    "#add feature function\n",
    "# def add_feature(X, feature_to_add):\n",
    "#     \"\"\"\n",
    "#     Returns sparse feature matrix with added feature.\n",
    "#     feature_to_add can also be a list of features.\n",
    "#     \"\"\"\n",
    "#     from scipy.sparse import csr_matrix, hstack\n",
    "#     return hstack([X, csr_matrix(feature_to_add).T], 'csr')"
   ]
  },
  {
   "cell_type": "code",
   "execution_count": 81,
   "metadata": {},
   "outputs": [],
   "source": [
    "#load the data\n",
    "B07D2M6B23 = pd.read_csv(r'D:\\Users\\Фёдор\\Desktop\\Python\\Python\\Coursera\\Text Mining\\Artistro Amazon Review\\amazonartistroreviews\\B07D2M6B23_20201207_192133.csv')\n",
    "B07D2M6B23['Product'] = 'B07D2M6B23'\n",
    "\n",
    "B07QCWG461 = pd.read_csv(r'D:\\Users\\Фёдор\\Desktop\\Python\\Python\\Coursera\\Text Mining\\Artistro Amazon Review\\amazonartistroreviews\\B07QCWG461_20201207_192025.csv')\n",
    "B07QCWG461['Product'] = 'B07QCWG461'\n",
    "\n",
    "B07DFFCCFM = pd.read_csv(r'D:\\Users\\Фёдор\\Desktop\\Python\\Python\\Coursera\\Text Mining\\Artistro Amazon Review\\amazonartistroreviews\\B07DFFCCFM_20201207_185340.csv')\n",
    "B07DFFCCFM['Product'] = 'B07DFFCCFM'\n",
    "\n",
    "B07NSP573D = pd.read_csv(r'D:\\Users\\Фёдор\\Desktop\\Python\\Python\\Coursera\\Text Mining\\Artistro Amazon Review\\amazonartistroreviews\\B07NSP573D_20201207_190429.csv')\n",
    "B07NSP573D['Product'] = 'B07NSP573D'\n",
    "\n",
    "B0793F295W = pd.read_csv(r'D:\\Users\\Фёдор\\Desktop\\Python\\Python\\Coursera\\Text Mining\\Artistro Amazon Review\\amazonartistroreviews\\B0793F295W_20201207_190909.csv')\n",
    "B0793F295W['Product'] = 'B0793F295W'\n",
    "\n",
    "B07D2LC8LH = pd.read_csv(r'D:\\Users\\Фёдор\\Desktop\\Python\\Python\\Coursera\\Text Mining\\Artistro Amazon Review\\amazonartistroreviews\\B07D2LC8LH_20201207_191945.csv')\n",
    "B07D2LC8LH['Product'] = 'B07D2LC8LH'\n",
    "\n",
    "B07D2LVYQZ = pd.read_csv(r'D:\\Users\\Фёдор\\Desktop\\Python\\Python\\Coursera\\Text Mining\\Artistro Amazon Review\\amazonartistroreviews\\B07D2LVYQZ_20201207_191725.csv')\n",
    "B07D2LVYQZ['Product'] = 'B07D2LVYQZ'\n",
    "\n",
    "B07XB3DYZM = pd.read_csv(r'D:\\Users\\Фёдор\\Desktop\\Python\\Python\\Coursera\\Text Mining\\Artistro Amazon Review\\amazonartistroreviews\\B07XB3DYZM_20201207_191625.csv')\n",
    "B07XB3DYZM['Product'] = 'B07XB3DYZM'\n",
    "\n",
    "B07NRW6H8M = pd.read_csv(r'D:\\Users\\Фёдор\\Desktop\\Python\\Python\\Coursera\\Text Mining\\Artistro Amazon Review\\amazonartistroreviews\\B07NRW6H8M_20201207_191535.csv')\n",
    "B07NRW6H8M['Product'] = 'B07NRW6H8M'\n",
    "\n",
    "B07NS381GK = pd.read_csv(r'D:\\Users\\Фёдор\\Desktop\\Python\\Python\\Coursera\\Text Mining\\Artistro Amazon Review\\amazonartistroreviews\\B07NS381GK_20201207_185109.csv')\n",
    "B07NS381GK['Product'] = 'B07NS381GK'\n",
    "\n",
    "B01N5HUE1P = pd.read_csv(r'D:\\Users\\Фёдор\\Desktop\\Python\\Python\\Coursera\\Text Mining\\Artistro Amazon Review\\amazonartistroreviews\\B01N5HUE1P_20201207_190157.csv')\n",
    "B01N5HUE1P['Product'] = 'B01N5HUE1P'\n",
    "\n",
    "B07NS42Z35 = pd.read_csv(r'D:\\Users\\Фёдор\\Desktop\\Python\\Python\\Coursera\\Text Mining\\Artistro Amazon Review\\amazonartistroreviews\\B07NS42Z35_20201207_191455.csv')\n",
    "B07NS42Z35['Product'] = 'B07NS42Z35'\n",
    "\n",
    "B07485T22B = pd.read_csv(r'D:\\Users\\Фёдор\\Desktop\\Python\\Python\\Coursera\\Text Mining\\Artistro Amazon Review\\amazonartistroreviews\\B07485T22B_20201207_191155.csv')\n",
    "B07485T22B['Product'] = 'B07485T22B'\n",
    "\n",
    "B07XQMC76X = pd.read_csv(r'D:\\Users\\Фёдор\\Desktop\\Python\\Python\\Coursera\\Text Mining\\Artistro Amazon Review\\amazonartistroreviews\\B07XQMC76X_20201207_191319.csv')\n",
    "B07XQMC76X['Product'] = 'B07XQMC76X'\n",
    "\n",
    "B07HLQFQ5F = pd.read_csv(r'D:\\Users\\Фёдор\\Desktop\\Python\\Python\\Coursera\\Text Mining\\Artistro Amazon Review\\amazonartistroreviews\\B07HLQFQ5F_20201207_192227.csv')\n",
    "B07HLQFQ5F['Product'] = 'B07HLQFQ5F'"
   ]
  },
  {
   "cell_type": "code",
   "execution_count": 82,
   "metadata": {},
   "outputs": [],
   "source": [
    "#merge all into 1 table\n",
    "frames = [B07D2M6B23, B07QCWG461, B07DFFCCFM, B07NSP573D,  B0793F295W,  B07D2LC8LH, B07D2LVYQZ, B07XB3DYZM,  \n",
    "          B07NRW6H8M, B07NS381GK, B01N5HUE1P, B07NS42Z35, B07485T22B, B07XQMC76X, B07HLQFQ5F]\n",
    "resul = pd.concat(frames)\n",
    "resul = resul.reset_index()"
   ]
  },
  {
   "cell_type": "code",
   "execution_count": 83,
   "metadata": {},
   "outputs": [],
   "source": [
    "#remove neutral ratings and select only nessesary columns\n",
    "df = resul[resul['Rating'] != 3]\n",
    "df = df[['Product', 'Rating', 'Body']]\n",
    "df.dropna(inplace=True)\n",
    "#assign 1 for posistive and 0 for negative:\n",
    "df['Positively Rated'] = np.where(df['Rating'] > 3, 1, 0)\n",
    "#replace \"\"\n",
    "df.Body = df['Body'].str.replace('\"', '')"
   ]
  },
  {
   "cell_type": "code",
   "execution_count": 84,
   "metadata": {},
   "outputs": [
    {
     "data": {
      "text/plain": [
       "0.9255106127352823"
      ]
     },
     "execution_count": 84,
     "metadata": {},
     "output_type": "execute_result"
    }
   ],
   "source": [
    "df['Positively Rated'].mean() #Most ratings are positive"
   ]
  },
  {
   "cell_type": "code",
   "execution_count": 85,
   "metadata": {},
   "outputs": [
    {
     "data": {
      "text/plain": [
       "1    0.925511\n",
       "0    0.074489\n",
       "Name: Positively Rated, dtype: float64"
      ]
     },
     "execution_count": 85,
     "metadata": {},
     "output_type": "execute_result"
    }
   ],
   "source": [
    "df['Positively Rated'].value_counts()/df.shape[0]"
   ]
  },
  {
   "cell_type": "code",
   "execution_count": 86,
   "metadata": {},
   "outputs": [],
   "source": [
    "# Split data into training and test sets\n",
    "X_train, X_test, y_train, y_test = train_test_split(df['Body'], \n",
    "                                                    df['Positively Rated'], \n",
    "                                                    random_state=2)"
   ]
  },
  {
   "cell_type": "code",
   "execution_count": 87,
   "metadata": {},
   "outputs": [
    {
     "name": "stdout",
     "output_type": "stream",
     "text": [
      "X_train first entry:\n",
      "\n",
      " Very easy to use. My eight year old is using them for a Christmas project.\n",
      "\n",
      "\n",
      "X_train shape:  (7491,)\n"
     ]
    }
   ],
   "source": [
    "print('X_train first entry:\\n\\n', X_train.iloc[0])\n",
    "print('\\n\\nX_train shape: ', X_train.shape)"
   ]
  },
  {
   "cell_type": "code",
   "execution_count": 275,
   "metadata": {},
   "outputs": [],
   "source": [
    "vect = CountVectorizer().fit(X_train)"
   ]
  },
  {
   "cell_type": "code",
   "execution_count": 276,
   "metadata": {},
   "outputs": [
    {
     "data": {
      "text/plain": [
       "<7491x7604 sparse matrix of type '<class 'numpy.int64'>'\n",
       "\twith 136640 stored elements in Compressed Sparse Row format>"
      ]
     },
     "execution_count": 276,
     "metadata": {},
     "output_type": "execute_result"
    }
   ],
   "source": [
    "# transform the documents in the training data to a document-term matrix\n",
    "X_train_vectorized = vect.transform(X_train)\n",
    "\n",
    "X_train_vectorized"
   ]
  },
  {
   "cell_type": "markdown",
   "metadata": {},
   "source": [
    "# Simple Logistic Regression model:"
   ]
  },
  {
   "cell_type": "code",
   "execution_count": 277,
   "metadata": {},
   "outputs": [
    {
     "data": {
      "text/plain": [
       "LogisticRegression()"
      ]
     },
     "execution_count": 277,
     "metadata": {},
     "output_type": "execute_result"
    }
   ],
   "source": [
    "# Train the model\n",
    "model_simple = LogisticRegression()\n",
    "model_simple.fit(X_train_vectorized, y_train)"
   ]
  },
  {
   "cell_type": "code",
   "execution_count": 278,
   "metadata": {},
   "outputs": [
    {
     "name": "stdout",
     "output_type": "stream",
     "text": [
      "Accuracy Score: 0.9503404084901882\n",
      "Confusion Matrix: \n",
      "[[ 106   91]\n",
      " [  33 2267]]\n",
      "Area Under Curve: 0.7618616199514456\n",
      "Recall score: 0.9856521739130435\n",
      "Precision score: 0.9614079728583546\n"
     ]
    }
   ],
   "source": [
    "# Predict the transformed test documents\n",
    "predictions_simple = model_simple.predict(vect.transform(X_test))\n",
    "\n",
    "print(f'Accuracy Score: {accuracy_score(y_test,predictions_simple)}')\n",
    "print(f'Confusion Matrix: \\n{confusion_matrix(y_test, predictions_simple)}')\n",
    "print(f'Area Under Curve: {roc_auc_score(y_test, predictions_simple)}')\n",
    "print(f'Recall score: {recall_score(y_test,predictions_simple)}')\n",
    "print(f'Precision score: {precision_score(y_test,predictions_simple)}')"
   ]
  },
  {
   "cell_type": "code",
   "execution_count": 279,
   "metadata": {},
   "outputs": [
    {
     "name": "stdout",
     "output_type": "stream",
     "text": [
      "Smallest Coefs:\n",
      "['return' 'half' 'not' 'never' 'terrible' 'splatter' 'disappointed'\n",
      " 'cheap' 'say' 'dried']\n",
      "\n",
      "Largest Coefs: \n",
      "['easy' 'love' 'perfect' 'great' 'excellent' 'best' 'fun' 'perfectly'\n",
      " 'nice' 'beautiful']\n"
     ]
    }
   ],
   "source": [
    "# get the feature names as numpy array\n",
    "feature_names = np.array(vect.get_feature_names())\n",
    "\n",
    "# Sort the coefficients from the model\n",
    "sorted_coef_index = model_simple.coef_[0].argsort()\n",
    "\n",
    "# Find the 10 smallest and 10 largest coefficients\n",
    "# The 10 largest coefficients are being indexed using [:-11:-1] \n",
    "# so the list returned is in order of largest to smallest\n",
    "print('Smallest Coefs:\\n{}\\n'.format(feature_names[sorted_coef_index[:10]]))\n",
    "print('Largest Coefs: \\n{}'.format(feature_names[sorted_coef_index[:-11:-1]]))"
   ]
  },
  {
   "cell_type": "code",
   "execution_count": 281,
   "metadata": {},
   "outputs": [
    {
     "name": "stdout",
     "output_type": "stream",
     "text": [
      "[1 1]\n"
     ]
    }
   ],
   "source": [
    "print(model_simple.predict(vect.transform(['markers are good',\n",
    "                                    'markers are not good'])))"
   ]
  },
  {
   "cell_type": "code",
   "execution_count": 93,
   "metadata": {},
   "outputs": [
    {
     "data": {
      "text/plain": [
       "7604"
      ]
     },
     "execution_count": 93,
     "metadata": {},
     "output_type": "execute_result"
    }
   ],
   "source": [
    "len(feature_names)"
   ]
  },
  {
   "cell_type": "markdown",
   "metadata": {},
   "source": [
    "# Adding Tfidf logic:"
   ]
  },
  {
   "cell_type": "code",
   "execution_count": 121,
   "metadata": {},
   "outputs": [
    {
     "data": {
      "text/plain": [
       "1511"
      ]
     },
     "execution_count": 121,
     "metadata": {},
     "output_type": "execute_result"
    }
   ],
   "source": [
    "# Fit the TfidfVectorizer to the training data specifiying a minimum document frequency of 5\n",
    "vect_tfidf = TfidfVectorizer(min_df=7).fit(X_train)\n",
    "len(vect_tfidf.get_feature_names())"
   ]
  },
  {
   "cell_type": "code",
   "execution_count": 122,
   "metadata": {},
   "outputs": [
    {
     "name": "stdout",
     "output_type": "stream",
     "text": [
      "Accuracy Score: 0.9447336804164999\n",
      "Confusion Matrix: \n",
      "[[  67  130]\n",
      " [   8 2292]]\n",
      "Area Under Curve: 0.6683116309865371\n",
      "Recall score: 0.9965217391304347\n",
      "Precision score: 0.9463253509496284\n"
     ]
    }
   ],
   "source": [
    "X_train_vectorized = vect_tfidf.transform(X_train)\n",
    "\n",
    "model = LogisticRegression()\n",
    "model.fit(X_train_vectorized, y_train)\n",
    "\n",
    "predictions_tfidf = model.predict(vect_tfidf.transform(X_test))\n",
    "\n",
    "# performance\n",
    "print(f'Accuracy Score: {accuracy_score(y_test,predictions_tfidf)}')\n",
    "print(f'Confusion Matrix: \\n{confusion_matrix(y_test, predictions_tfidf)}')\n",
    "print(f'Area Under Curve: {roc_auc_score(y_test, predictions_tfidf)}')\n",
    "print(f'Recall score: {recall_score(y_test,predictions_tfidf)}')\n",
    "print(f'Precision score: {precision_score(y_test,predictions_tfidf)}')"
   ]
  },
  {
   "cell_type": "code",
   "execution_count": 124,
   "metadata": {},
   "outputs": [
    {
     "name": "stdout",
     "output_type": "stream",
     "text": [
      "[0 1]\n"
     ]
    }
   ],
   "source": [
    "print(model.predict(vect_tfidf.transform(['markers are good',\n",
    "                                    'nice for painting'])))"
   ]
  },
  {
   "cell_type": "markdown",
   "metadata": {},
   "source": [
    "# Main model with n-grams\n",
    "    #Setting up vect models:"
   ]
  },
  {
   "cell_type": "code",
   "execution_count": 283,
   "metadata": {},
   "outputs": [
    {
     "name": "stdout",
     "output_type": "stream",
     "text": [
      "4536\n",
      "4536\n"
     ]
    }
   ],
   "source": [
    "# Fit the CountVectorizer to the training data specifiying a minimum \n",
    "# document frequency of 5 and extracting 1-grams and 2-grams\n",
    "vect_count = CountVectorizer(min_df=7, ngram_range=(1,2), \n",
    "                             stop_words = frozenset([\"you\", \"your\", \"zu\"])).fit(X_train)\n",
    "vect_tfidf = TfidfVectorizer(min_df=7, ngram_range=(1,2), \n",
    "                             stop_words = frozenset([\"you\", \"your\", \"zu\"])).fit(X_train)\n",
    "\n",
    "X_train_vectorized = vect_count.transform(X_train)\n",
    "X_train_vectorized_tfidf = vect_tfidf.transform(X_train)\n",
    "\n",
    "print(len(vect_count.get_feature_names()))\n",
    "print(len(vect_tfidf.get_feature_names()))"
   ]
  },
  {
   "cell_type": "code",
   "execution_count": 259,
   "metadata": {},
   "outputs": [
    {
     "data": {
      "text/plain": [
       "[('yr old', 4534),\n",
       " ('yr', 4533),\n",
       " ('young', 4532),\n",
       " ('yet to', 4531),\n",
       " ('yet but', 4530),\n",
       " ('yet', 4529),\n",
       " ('yesterday', 4528),\n",
       " ('yes', 4527),\n",
       " ('yellow', 4526),\n",
       " ('years old', 4525),\n",
       " ('years', 4524),\n",
       " ('year old', 4523),\n",
       " ('year', 4522),\n",
       " ('xmas', 4521),\n",
       " ('wrote on', 4520),\n",
       " ('wrote', 4519),\n",
       " ('wrong', 4518),\n",
       " ('writing words', 4517),\n",
       " ('writing on', 4516),\n",
       " ('writing and', 4515)]"
      ]
     },
     "execution_count": 259,
     "metadata": {},
     "output_type": "execute_result"
    }
   ],
   "source": [
    "sorted(vect_tfidf.vocabulary_.items(), key=lambda bair: bair[1], reverse=True )[:20]"
   ]
  },
  {
   "cell_type": "code",
   "execution_count": 265,
   "metadata": {},
   "outputs": [
    {
     "data": {
      "text/plain": [
       "[('zero', 4535),\n",
       " ('yr old', 4534),\n",
       " ('yr', 4533),\n",
       " ('young', 4532),\n",
       " ('yet to', 4531),\n",
       " ('yet but', 4530),\n",
       " ('yet', 4529),\n",
       " ('yesterday', 4528),\n",
       " ('yes', 4527),\n",
       " ('yellow', 4526),\n",
       " ('years old', 4525),\n",
       " ('years', 4524),\n",
       " ('year old', 4523),\n",
       " ('year', 4522),\n",
       " ('xmas', 4521),\n",
       " ('wrote on', 4520),\n",
       " ('wrote', 4519),\n",
       " ('wrong', 4518),\n",
       " ('writing words', 4517),\n",
       " ('writing on', 4516)]"
      ]
     },
     "execution_count": 265,
     "metadata": {},
     "output_type": "execute_result"
    }
   ],
   "source": [
    "sorted(vect_count.vocabulary_.items(), key=lambda bair: bair[1], reverse=True )[:20]"
   ]
  },
  {
   "cell_type": "code",
   "execution_count": 284,
   "metadata": {},
   "outputs": [
    {
     "name": "stdout",
     "output_type": "stream",
     "text": [
      "Accuracy Score: 0.9579495394473369\n",
      "Confusion Matrix: \n",
      "[[ 116   81]\n",
      " [  24 2276]]\n",
      "Area Under Curve: 0.7891988523504745\n",
      "Recall score: 0.9895652173913043\n",
      "Precision score: 0.965634280865507\n"
     ]
    }
   ],
   "source": [
    "model = LogisticRegression()\n",
    "model.fit(X_train_vectorized, y_train)\n",
    "X_test_vectorized = vect_count.transform(X_test)\n",
    "\n",
    "predictions = model.predict(vect_count.transform(X_test))\n",
    "\n",
    "#print('AUC: ', roc_auc_score(y_test, predictions))\n",
    "\n",
    "# performance\n",
    "print(f'Accuracy Score: {accuracy_score(y_test,predictions)}')\n",
    "print(f'Confusion Matrix: \\n{confusion_matrix(y_test, predictions)}')\n",
    "print(f'Area Under Curve: {roc_auc_score(y_test, predictions)}')\n",
    "print(f'Recall score: {recall_score(y_test,predictions)}')\n",
    "print(f'Precision score: {precision_score(y_test,predictions)}')"
   ]
  },
  {
   "cell_type": "code",
   "execution_count": 286,
   "metadata": {},
   "outputs": [
    {
     "name": "stdout",
     "output_type": "stream",
     "text": [
      "[1 1]\n"
     ]
    }
   ],
   "source": [
    "print(model.predict(vect_count.transform(['markers are good',\n",
    "                                    'markers are not good'])))"
   ]
  },
  {
   "cell_type": "code",
   "execution_count": 132,
   "metadata": {},
   "outputs": [
    {
     "name": "stdout",
     "output_type": "stream",
     "text": [
      "Accuracy Score: 0.9427312775330396\n",
      "Confusion Matrix: \n",
      "[[  59  138]\n",
      " [   5 2295]]\n",
      "Area Under Curve: 0.6486592363716619\n",
      "Recall score: 0.9978260869565218\n",
      "Precision score: 0.9432799013563502\n"
     ]
    }
   ],
   "source": [
    "model = LogisticRegression()\n",
    "model.fit(X_train_vectorized_tfidf, y_train)\n",
    "X_test_vectorized_tfidf = vect_tfidf.transform(X_test)\n",
    "\n",
    "predictions_tfidf = model.predict(vect_tfidf.transform(X_test))\n",
    "\n",
    "#print('AUC: ', roc_auc_score(y_test, predictions))\n",
    "\n",
    "# performance\n",
    "print(f'Accuracy Score: {accuracy_score(y_test,predictions_tfidf)}')\n",
    "print(f'Confusion Matrix: \\n{confusion_matrix(y_test, predictions_tfidf)}')\n",
    "print(f'Area Under Curve: {roc_auc_score(y_test, predictions_tfidf)}')\n",
    "print(f'Recall score: {recall_score(y_test,predictions_tfidf)}')\n",
    "print(f'Precision score: {precision_score(y_test,predictions_tfidf)}')"
   ]
  },
  {
   "cell_type": "code",
   "execution_count": 287,
   "metadata": {},
   "outputs": [
    {
     "name": "stdout",
     "output_type": "stream",
     "text": [
      "[1 1]\n"
     ]
    }
   ],
   "source": [
    "print(model.predict(vect_tfidf.transform(['markers are good',\n",
    "                                    'markers are not good'])))"
   ]
  },
  {
   "cell_type": "markdown",
   "metadata": {},
   "source": [
    "# Unbalanced weights - ideal model is below"
   ]
  },
  {
   "cell_type": "code",
   "execution_count": 272,
   "metadata": {},
   "outputs": [
    {
     "name": "stderr",
     "output_type": "stream",
     "text": [
      "D:\\Applications\\lib\\site-packages\\sklearn\\linear_model\\_logistic.py:762: ConvergenceWarning: lbfgs failed to converge (status=1):\n",
      "STOP: TOTAL NO. of ITERATIONS REACHED LIMIT.\n",
      "\n",
      "Increase the number of iterations (max_iter) or scale the data as shown in:\n",
      "    https://scikit-learn.org/stable/modules/preprocessing.html\n",
      "Please also refer to the documentation for alternative solver options:\n",
      "    https://scikit-learn.org/stable/modules/linear_model.html#logistic-regression\n",
      "  n_iter_i = _check_optimize_result(\n"
     ]
    },
    {
     "name": "stdout",
     "output_type": "stream",
     "text": [
      "Accuracy Score: 0.8446135362434922\n",
      "Confusion Matrix: \n",
      "[[ 174   23]\n",
      " [ 365 1935]]\n",
      "Area Under Curve: 0.8622765393952769\n",
      "Recall score: 0.841304347826087\n",
      "Precision score: 0.9882533197139939\n"
     ]
    }
   ],
   "source": [
    "# define class weights\n",
    "model_w = LogisticRegression(random_state=13,C=80,fit_intercept=True, \n",
    "                             penalty='l2',class_weight={0: 99.991, 1: 0.009} )\n",
    "model_w.fit(X_train_vectorized, y_train)\n",
    "X_test_vectorized = vect_count.transform(X_test)\n",
    "\n",
    "\n",
    "predictions_w = model_w.predict(vect_count.transform(X_test))\n",
    "\n",
    "#print('AUC: ', roc_auc_score(y_test, predictions))\n",
    "\n",
    "# performance\n",
    "print(f'Accuracy Score: {accuracy_score(y_test,predictions_w)}')\n",
    "print(f'Confusion Matrix: \\n{confusion_matrix(y_test, predictions_w)}')\n",
    "print(f'Area Under Curve: {roc_auc_score(y_test, predictions_w)}')\n",
    "print(f'Recall score: {recall_score(y_test,predictions_w)}')\n",
    "print(f'Precision score: {precision_score(y_test,predictions_w)}')"
   ]
  },
  {
   "cell_type": "code",
   "execution_count": 289,
   "metadata": {},
   "outputs": [
    {
     "name": "stdout",
     "output_type": "stream",
     "text": [
      "[1 0]\n"
     ]
    }
   ],
   "source": [
    "print(model_w.predict(vect_count.transform(['markers are good',\n",
    "                                    'markers are not good'])))"
   ]
  },
  {
   "cell_type": "markdown",
   "metadata": {},
   "source": [
    "# Even better model with Tfidf and parametered LR:"
   ]
  },
  {
   "cell_type": "code",
   "execution_count": 260,
   "metadata": {},
   "outputs": [
    {
     "name": "stderr",
     "output_type": "stream",
     "text": [
      "D:\\Applications\\lib\\site-packages\\sklearn\\linear_model\\_logistic.py:762: ConvergenceWarning: lbfgs failed to converge (status=1):\n",
      "STOP: TOTAL NO. of ITERATIONS REACHED LIMIT.\n",
      "\n",
      "Increase the number of iterations (max_iter) or scale the data as shown in:\n",
      "    https://scikit-learn.org/stable/modules/preprocessing.html\n",
      "Please also refer to the documentation for alternative solver options:\n",
      "    https://scikit-learn.org/stable/modules/linear_model.html#logistic-regression\n",
      "  n_iter_i = _check_optimize_result(\n"
     ]
    },
    {
     "name": "stdout",
     "output_type": "stream",
     "text": [
      "Accuracy Score: 0.8466159391269523\n",
      "Confusion Matrix: \n",
      "[[ 189    8]\n",
      " [ 375 1925]]\n",
      "Area Under Curve: 0.8981736923416463\n",
      "Recall score: 0.8369565217391305\n",
      "Precision score: 0.9958613554061045\n"
     ]
    }
   ],
   "source": [
    "# define class weights\n",
    "model_w = LogisticRegression(random_state=13,C=680,fit_intercept=True, \n",
    "                             penalty='l2',class_weight={0: 99.991, 1: 0.009} )\n",
    "model_w.fit(X_train_vectorized_tfidf, y_train)\n",
    "X_test_vectorized_tfidf = vect_tfidf.transform(X_test)\n",
    "\n",
    "\n",
    "predictions_w_idf = model_w.predict(vect_tfidf.transform(X_test))\n",
    "\n",
    "#print('AUC: ', roc_auc_score(y_test, predictions))\n",
    "\n",
    "# performance\n",
    "print(f'Accuracy Score: {accuracy_score(y_test,predictions_w_idf)}')\n",
    "print(f'Confusion Matrix: \\n{confusion_matrix(y_test, predictions_w_idf)}')\n",
    "print(f'Area Under Curve: {roc_auc_score(y_test, predictions_w_idf)}')\n",
    "print(f'Recall score: {recall_score(y_test,predictions_w_idf)}')\n",
    "print(f'Precision score: {precision_score(y_test,predictions_w_idf)}')"
   ]
  },
  {
   "cell_type": "code",
   "execution_count": 288,
   "metadata": {},
   "outputs": [
    {
     "name": "stdout",
     "output_type": "stream",
     "text": [
      "[0 0]\n"
     ]
    }
   ],
   "source": [
    "print(model_w.predict(vect_tfidf.transform(['markers are good',\n",
    "                                    'markers are not good'])))"
   ]
  },
  {
   "cell_type": "code",
   "execution_count": 236,
   "metadata": {},
   "outputs": [
    {
     "name": "stdout",
     "output_type": "stream",
     "text": [
      "Smallest Coefs:\n",
      "['nicht' 'not' 'don work' 'non' 'half' 'return' 'would not' 'never'\n",
      " 'of them' 'at all' 'like they' 'unfortunately' 'farbe' 'terrible'\n",
      " 'disappointed' 'refund' 'open' 'very disappointed' 'good markers'\n",
      " 'thought' 'cheap' 'reviews' 'came off' 'as good' 'they work great'\n",
      " 'opened' 'very pleased' 'an' 'les crayons' 'next time']\n",
      "\n",
      "Largest Coefs: \n",
      "['great' 'love' 'bien' 'nice' 'colori' 'perfect' 'good' 'excellent' 'me'\n",
      " 'best' 'super' 'quickly' 'amazing' 'colors' 'well' 'liked' 'works'\n",
      " 'awesome' 'fine' 'parfait' 'perfectly' 'fun' 'ha' 'lovely' 'like' 'adore'\n",
      " 'easy' 'beautiful' 'for' 'better than']\n"
     ]
    }
   ],
   "source": [
    "feature_names = np.array(vect_tfidf.get_feature_names())\n",
    "\n",
    "sorted_coef_index = model_w.coef_[0].argsort()\n",
    "\n",
    "print('Smallest Coefs:\\n{}\\n'.format(feature_names[sorted_coef_index[:30]]))\n",
    "print('Largest Coefs: \\n{}'.format(feature_names[sorted_coef_index[:-31:-1]]))"
   ]
  },
  {
   "cell_type": "code",
   "execution_count": 49,
   "metadata": {},
   "outputs": [
    {
     "name": "stdout",
     "output_type": "stream",
     "text": [
      "Smallest Coefs:\n",
      "['don work' 'non' 'return' 'very pleased' 'never' 'poor' 'good markers'\n",
      " 'not' 'half' 'terrible' 'des' 'nicht' 'as good' 'like they' 'wasn'\n",
      " 'horrible' 'cheap' 'of them' 'refund' 'kann' 'transparent' 'bad'\n",
      " 'paint is' 'came off' 'unfortunately' 'pas' 'probably' 'open' 'ups'\n",
      " 'free']\n",
      "\n",
      "Largest Coefs: \n",
      "['bien' 'great' 'love' 'excellent' 'perfect' 'nice' 'awesome' 'super'\n",
      " 'good' 'amazing' 'pleased with' 'best' 'very easy' 'colori' 'fun' 'liked'\n",
      " 'works' 'excelente' 'would buy' 'parfait' 'gift' 'me' 'beautiful'\n",
      " 'brilliant' 'cool' 'thank' 'adore' 'quickly' 'wonderful' 'use and']\n"
     ]
    }
   ],
   "source": [
    "feature_names = np.array(vect_tfidf.get_feature_names())\n",
    "\n",
    "sorted_coef_index = model_w.coef_[0].argsort()\n",
    "\n",
    "print('Smallest Coefs:\\n{}\\n'.format(feature_names[sorted_coef_index[:30]]))\n",
    "print('Largest Coefs: \\n{}'.format(feature_names[sorted_coef_index[:-31:-1]]))"
   ]
  },
  {
   "cell_type": "code",
   "execution_count": 79,
   "metadata": {},
   "outputs": [
    {
     "data": {
      "text/plain": [
       "Text(0.5, 1.0, 'Logistic Regression Confusion matrix, with normalization')"
      ]
     },
     "execution_count": 79,
     "metadata": {},
     "output_type": "execute_result"
    },
    {
     "data": {
      "image/png": "[encoded data removed]",
      "text/plain": [
       "<Figure size 432x288 with 2 Axes>"
      ]
     },
     "metadata": {
      "needs_background": "light"
     },
     "output_type": "display_data"
    }
   ],
   "source": [
    "disp = metrics.plot_confusion_matrix(model_w, X_test_vectorized, y_test,\n",
    "                                 display_labels=['Class 0', 'Class 1'],\n",
    "                                 cmap=plt.cm.Blues,\n",
    "                                 normalize='true')\n",
    "disp.ax_.set_title('Logistic Regression Confusion matrix, with normalization')"
   ]
  },
  {
   "cell_type": "code",
   "execution_count": 78,
   "metadata": {},
   "outputs": [
    {
     "data": {
      "text/plain": [
       "4534"
      ]
     },
     "execution_count": 78,
     "metadata": {},
     "output_type": "execute_result"
    }
   ],
   "source": [
    "len(feature_names)"
   ]
  },
  {
   "cell_type": "code",
   "execution_count": 52,
   "metadata": {},
   "outputs": [],
   "source": [
    "pred_proba_df = pd.DataFrame(model_w.predict_proba(X_test_vectorized))"
   ]
  },
  {
   "cell_type": "code",
   "execution_count": 56,
   "metadata": {},
   "outputs": [
    {
     "data": {
      "text/html": [
       "<div>\n",
       "<style scoped>\n",
       "    .dataframe tbody tr th:only-of-type {\n",
       "        vertical-align: middle;\n",
       "    }\n",
       "\n",
       "    .dataframe tbody tr th {\n",
       "        vertical-align: top;\n",
       "    }\n",
       "\n",
       "    .dataframe thead th {\n",
       "        text-align: right;\n",
       "    }\n",
       "</style>\n",
       "<table border=\"1\" class=\"dataframe\">\n",
       "  <thead>\n",
       "    <tr style=\"text-align: right;\">\n",
       "      <th></th>\n",
       "      <th>0</th>\n",
       "      <th>1</th>\n",
       "    </tr>\n",
       "  </thead>\n",
       "  <tbody>\n",
       "    <tr>\n",
       "      <th>0</th>\n",
       "      <td>3.304778e-01</td>\n",
       "      <td>0.669522</td>\n",
       "    </tr>\n",
       "    <tr>\n",
       "      <th>1</th>\n",
       "      <td>6.516002e-07</td>\n",
       "      <td>0.999999</td>\n",
       "    </tr>\n",
       "    <tr>\n",
       "      <th>2</th>\n",
       "      <td>4.642834e-01</td>\n",
       "      <td>0.535717</td>\n",
       "    </tr>\n",
       "    <tr>\n",
       "      <th>3</th>\n",
       "      <td>7.043650e-01</td>\n",
       "      <td>0.295635</td>\n",
       "    </tr>\n",
       "    <tr>\n",
       "      <th>4</th>\n",
       "      <td>3.021941e-01</td>\n",
       "      <td>0.697806</td>\n",
       "    </tr>\n",
       "  </tbody>\n",
       "</table>\n",
       "</div>"
      ],
      "text/plain": [
       "              0         1\n",
       "0  3.304778e-01  0.669522\n",
       "1  6.516002e-07  0.999999\n",
       "2  4.642834e-01  0.535717\n",
       "3  7.043650e-01  0.295635\n",
       "4  3.021941e-01  0.697806"
      ]
     },
     "execution_count": 56,
     "metadata": {},
     "output_type": "execute_result"
    }
   ],
   "source": [
    "pred_proba_df.head()"
   ]
  },
  {
   "cell_type": "code",
   "execution_count": 59,
   "metadata": {},
   "outputs": [
    {
     "data": {
      "text/plain": [
       "Product                                    B07D2M6B23\n",
       "Rating                                              5\n",
       "Body                Great for rock painting details. \n",
       "Positively Rated                                    1\n",
       "Name: 0, dtype: object"
      ]
     },
     "execution_count": 59,
     "metadata": {},
     "output_type": "execute_result"
    }
   ],
   "source": [
    "df.iloc[0]"
   ]
  },
  {
   "cell_type": "code",
   "execution_count": 216,
   "metadata": {},
   "outputs": [
    {
     "ename": "ValueError",
     "evalue": "X has 7604 features per sample; expecting 2490",
     "output_type": "error",
     "traceback": [
      "\u001b[1;31m---------------------------------------------------------------------------\u001b[0m",
      "\u001b[1;31mValueError\u001b[0m                                Traceback (most recent call last)",
      "\u001b[1;32m<ipython-input-216-27a5e80fe38b>\u001b[0m in \u001b[0;36m<module>\u001b[1;34m\u001b[0m\n\u001b[1;32m----> 1\u001b[1;33m print(model_w.predict(vect.transform(['markers are good',\n\u001b[0m\u001b[0;32m      2\u001b[0m                                     'awful'])))\n",
      "\u001b[1;32mD:\\Applications\\lib\\site-packages\\sklearn\\linear_model\\_base.py\u001b[0m in \u001b[0;36mpredict\u001b[1;34m(self, X)\u001b[0m\n\u001b[0;32m    305\u001b[0m             \u001b[0mPredicted\u001b[0m \u001b[1;32mclass\u001b[0m \u001b[0mlabel\u001b[0m \u001b[0mper\u001b[0m \u001b[0msample\u001b[0m\u001b[1;33m.\u001b[0m\u001b[1;33m\u001b[0m\u001b[1;33m\u001b[0m\u001b[0m\n\u001b[0;32m    306\u001b[0m         \"\"\"\n\u001b[1;32m--> 307\u001b[1;33m         \u001b[0mscores\u001b[0m \u001b[1;33m=\u001b[0m \u001b[0mself\u001b[0m\u001b[1;33m.\u001b[0m\u001b[0mdecision_function\u001b[0m\u001b[1;33m(\u001b[0m\u001b[0mX\u001b[0m\u001b[1;33m)\u001b[0m\u001b[1;33m\u001b[0m\u001b[1;33m\u001b[0m\u001b[0m\n\u001b[0m\u001b[0;32m    308\u001b[0m         \u001b[1;32mif\u001b[0m \u001b[0mlen\u001b[0m\u001b[1;33m(\u001b[0m\u001b[0mscores\u001b[0m\u001b[1;33m.\u001b[0m\u001b[0mshape\u001b[0m\u001b[1;33m)\u001b[0m \u001b[1;33m==\u001b[0m \u001b[1;36m1\u001b[0m\u001b[1;33m:\u001b[0m\u001b[1;33m\u001b[0m\u001b[1;33m\u001b[0m\u001b[0m\n\u001b[0;32m    309\u001b[0m             \u001b[0mindices\u001b[0m \u001b[1;33m=\u001b[0m \u001b[1;33m(\u001b[0m\u001b[0mscores\u001b[0m \u001b[1;33m>\u001b[0m \u001b[1;36m0\u001b[0m\u001b[1;33m)\u001b[0m\u001b[1;33m.\u001b[0m\u001b[0mastype\u001b[0m\u001b[1;33m(\u001b[0m\u001b[0mnp\u001b[0m\u001b[1;33m.\u001b[0m\u001b[0mint\u001b[0m\u001b[1;33m)\u001b[0m\u001b[1;33m\u001b[0m\u001b[1;33m\u001b[0m\u001b[0m\n",
      "\u001b[1;32mD:\\Applications\\lib\\site-packages\\sklearn\\linear_model\\_base.py\u001b[0m in \u001b[0;36mdecision_function\u001b[1;34m(self, X)\u001b[0m\n\u001b[0;32m    284\u001b[0m         \u001b[0mn_features\u001b[0m \u001b[1;33m=\u001b[0m \u001b[0mself\u001b[0m\u001b[1;33m.\u001b[0m\u001b[0mcoef_\u001b[0m\u001b[1;33m.\u001b[0m\u001b[0mshape\u001b[0m\u001b[1;33m[\u001b[0m\u001b[1;36m1\u001b[0m\u001b[1;33m]\u001b[0m\u001b[1;33m\u001b[0m\u001b[1;33m\u001b[0m\u001b[0m\n\u001b[0;32m    285\u001b[0m         \u001b[1;32mif\u001b[0m \u001b[0mX\u001b[0m\u001b[1;33m.\u001b[0m\u001b[0mshape\u001b[0m\u001b[1;33m[\u001b[0m\u001b[1;36m1\u001b[0m\u001b[1;33m]\u001b[0m \u001b[1;33m!=\u001b[0m \u001b[0mn_features\u001b[0m\u001b[1;33m:\u001b[0m\u001b[1;33m\u001b[0m\u001b[1;33m\u001b[0m\u001b[0m\n\u001b[1;32m--> 286\u001b[1;33m             raise ValueError(\"X has %d features per sample; expecting %d\"\n\u001b[0m\u001b[0;32m    287\u001b[0m                              % (X.shape[1], n_features))\n\u001b[0;32m    288\u001b[0m \u001b[1;33m\u001b[0m\u001b[0m\n",
      "\u001b[1;31mValueError\u001b[0m: X has 7604 features per sample; expecting 2490"
     ]
    }
   ],
   "source": [
    "print(model_w.predict(vect.transform(['markers are good',\n",
    "                                    'awful'])))"
   ]
  },
  {
   "cell_type": "code",
   "execution_count": 217,
   "metadata": {},
   "outputs": [
    {
     "name": "stdout",
     "output_type": "stream",
     "text": [
      "[1 0]\n"
     ]
    }
   ],
   "source": [
    "print(model_w.predict(vect_tfidf.transform(['markers are good',\n",
    "                                    'awful'])))"
   ]
  },
  {
   "cell_type": "markdown",
   "metadata": {},
   "source": [
    "# Finding best params"
   ]
  },
  {
   "cell_type": "code",
   "execution_count": 207,
   "metadata": {},
   "outputs": [],
   "source": [
    "# define weight hyperparameter\n",
    "w = [{0:1000,1:100},{0:1000,1:10}, {0:1000,1:1.0}, \n",
    "     {0:500,1:1.0}, {0:400,1:1.0}, {0:300,1:1.0}, {0:200,1:1.0}, \n",
    "     {0:150,1:1.0}, {0:100,1:1.0}, {0:99,1:1.0}, {0:10,1:1.0}, \n",
    "     {0:0.01,1:1.0}, {0:0.01,1:10}, {0:0.01,1:100}, \n",
    "     {0:0.001,1:1.0}, {0:0.005,1:1.0}, {0:1.0,1:1.0}, \n",
    "     {0:1.0,1:0.1}, {0:10,1:0.1}, {0:100,1:0.1}, \n",
    "     {0:10,1:0.01}, {0:1.0,1:0.01}, {0:1.0,1:0.001}, {0:1.0,1:0.005}, \n",
    "     {0:1.0,1:10}, {0:1.0,1:99}, {0:1.0,1:100}, {0:1.0,1:150}, \n",
    "     {0:1.0,1:200}, {0:1.0,1:300},{0:1.0,1:400},{0:1.0,1:500}, \n",
    "     {0:1.0,1:1000}, {0:10,1:1000},{0:100,1:1000} ]\n",
    "crange = np.arange(0.5, 20.0, 0.5)\n",
    "hyperparam_grid = {\"class_weight\": w,\n",
    "                   \"penalty\": [\"l1\", \"l2\"],\n",
    "                   \"C\": crange,\n",
    "                   \"fit_intercept\": [True, False]  }"
   ]
  },
  {
   "cell_type": "code",
   "execution_count": 208,
   "metadata": {},
   "outputs": [
    {
     "name": "stderr",
     "output_type": "stream",
     "text": [
      "D:\\Applications\\lib\\site-packages\\sklearn\\linear_model\\_logistic.py:762: ConvergenceWarning: lbfgs failed to converge (status=1):\n",
      "STOP: TOTAL NO. of ITERATIONS REACHED LIMIT.\n",
      "\n",
      "Increase the number of iterations (max_iter) or scale the data as shown in:\n",
      "    https://scikit-learn.org/stable/modules/preprocessing.html\n",
      "Please also refer to the documentation for alternative solver options:\n",
      "    https://scikit-learn.org/stable/modules/linear_model.html#logistic-regression\n",
      "  n_iter_i = _check_optimize_result(\n"
     ]
    },
    {
     "name": "stdout",
     "output_type": "stream",
     "text": [
      "Best score: 0.9535978605935129 with param: {'C': 19.0, 'class_weight': {0: 0.01, 1: 1.0}, 'fit_intercept': True, 'penalty': 'l2'}\n"
     ]
    }
   ],
   "source": [
    "# define model\n",
    "lg3 = LogisticRegression(random_state=13)\n",
    "# define evaluation procedure\n",
    "grid = GridSearchCV(lg3,hyperparam_grid,scoring=\"roc_auc\", cv=100, n_jobs=-1, refit=True)\n",
    "grid.fit(X_train_vectorized, y_train)\n",
    "print(f'Best score: {grid.best_score_} with param: {grid.best_params_}')"
   ]
  },
  {
   "cell_type": "markdown",
   "metadata": {},
   "source": [
    "# Treshold for prob"
   ]
  },
  {
   "cell_type": "code",
   "execution_count": 175,
   "metadata": {},
   "outputs": [],
   "source": [
    "pred_proba_df = pd.DataFrame(model.predict_proba(X_test_vectorized))\n",
    "\n",
    "    "
   ]
  },
  {
   "cell_type": "code",
   "execution_count": 184,
   "metadata": {},
   "outputs": [
    {
     "data": {
      "text/html": [
       "<div>\n",
       "<style scoped>\n",
       "    .dataframe tbody tr th:only-of-type {\n",
       "        vertical-align: middle;\n",
       "    }\n",
       "\n",
       "    .dataframe tbody tr th {\n",
       "        vertical-align: top;\n",
       "    }\n",
       "\n",
       "    .dataframe thead th {\n",
       "        text-align: right;\n",
       "    }\n",
       "</style>\n",
       "<table border=\"1\" class=\"dataframe\">\n",
       "  <thead>\n",
       "    <tr style=\"text-align: right;\">\n",
       "      <th></th>\n",
       "      <th>0</th>\n",
       "      <th>1</th>\n",
       "    </tr>\n",
       "  </thead>\n",
       "  <tbody>\n",
       "    <tr>\n",
       "      <th>2477</th>\n",
       "      <td>0.000018</td>\n",
       "      <td>0.999982</td>\n",
       "    </tr>\n",
       "    <tr>\n",
       "      <th>2478</th>\n",
       "      <td>0.078013</td>\n",
       "      <td>0.921987</td>\n",
       "    </tr>\n",
       "    <tr>\n",
       "      <th>2479</th>\n",
       "      <td>0.999875</td>\n",
       "      <td>0.000125</td>\n",
       "    </tr>\n",
       "    <tr>\n",
       "      <th>2480</th>\n",
       "      <td>0.000001</td>\n",
       "      <td>0.999999</td>\n",
       "    </tr>\n",
       "    <tr>\n",
       "      <th>2481</th>\n",
       "      <td>0.007799</td>\n",
       "      <td>0.992201</td>\n",
       "    </tr>\n",
       "    <tr>\n",
       "      <th>2482</th>\n",
       "      <td>0.000162</td>\n",
       "      <td>0.999838</td>\n",
       "    </tr>\n",
       "    <tr>\n",
       "      <th>2483</th>\n",
       "      <td>0.002844</td>\n",
       "      <td>0.997156</td>\n",
       "    </tr>\n",
       "    <tr>\n",
       "      <th>2484</th>\n",
       "      <td>0.004536</td>\n",
       "      <td>0.995464</td>\n",
       "    </tr>\n",
       "    <tr>\n",
       "      <th>2485</th>\n",
       "      <td>0.001005</td>\n",
       "      <td>0.998995</td>\n",
       "    </tr>\n",
       "    <tr>\n",
       "      <th>2486</th>\n",
       "      <td>0.240347</td>\n",
       "      <td>0.759653</td>\n",
       "    </tr>\n",
       "    <tr>\n",
       "      <th>2487</th>\n",
       "      <td>0.000259</td>\n",
       "      <td>0.999741</td>\n",
       "    </tr>\n",
       "    <tr>\n",
       "      <th>2488</th>\n",
       "      <td>0.000037</td>\n",
       "      <td>0.999963</td>\n",
       "    </tr>\n",
       "    <tr>\n",
       "      <th>2489</th>\n",
       "      <td>0.000287</td>\n",
       "      <td>0.999713</td>\n",
       "    </tr>\n",
       "    <tr>\n",
       "      <th>2490</th>\n",
       "      <td>0.020104</td>\n",
       "      <td>0.979896</td>\n",
       "    </tr>\n",
       "    <tr>\n",
       "      <th>2491</th>\n",
       "      <td>0.987158</td>\n",
       "      <td>0.012842</td>\n",
       "    </tr>\n",
       "    <tr>\n",
       "      <th>2492</th>\n",
       "      <td>0.740118</td>\n",
       "      <td>0.259882</td>\n",
       "    </tr>\n",
       "    <tr>\n",
       "      <th>2493</th>\n",
       "      <td>0.000887</td>\n",
       "      <td>0.999113</td>\n",
       "    </tr>\n",
       "    <tr>\n",
       "      <th>2494</th>\n",
       "      <td>0.003835</td>\n",
       "      <td>0.996165</td>\n",
       "    </tr>\n",
       "    <tr>\n",
       "      <th>2495</th>\n",
       "      <td>0.002688</td>\n",
       "      <td>0.997312</td>\n",
       "    </tr>\n",
       "    <tr>\n",
       "      <th>2496</th>\n",
       "      <td>0.036730</td>\n",
       "      <td>0.963270</td>\n",
       "    </tr>\n",
       "  </tbody>\n",
       "</table>\n",
       "</div>"
      ],
      "text/plain": [
       "             0         1\n",
       "2477  0.000018  0.999982\n",
       "2478  0.078013  0.921987\n",
       "2479  0.999875  0.000125\n",
       "2480  0.000001  0.999999\n",
       "2481  0.007799  0.992201\n",
       "2482  0.000162  0.999838\n",
       "2483  0.002844  0.997156\n",
       "2484  0.004536  0.995464\n",
       "2485  0.001005  0.998995\n",
       "2486  0.240347  0.759653\n",
       "2487  0.000259  0.999741\n",
       "2488  0.000037  0.999963\n",
       "2489  0.000287  0.999713\n",
       "2490  0.020104  0.979896\n",
       "2491  0.987158  0.012842\n",
       "2492  0.740118  0.259882\n",
       "2493  0.000887  0.999113\n",
       "2494  0.003835  0.996165\n",
       "2495  0.002688  0.997312\n",
       "2496  0.036730  0.963270"
      ]
     },
     "execution_count": 184,
     "metadata": {},
     "output_type": "execute_result"
    }
   ],
   "source": [
    "pred_proba_df.tail(20)"
   ]
  },
  {
   "cell_type": "code",
   "execution_count": 185,
   "metadata": {},
   "outputs": [
    {
     "name": "stderr",
     "output_type": "stream",
     "text": [
      "<ipython-input-185-f17cf8923485>:1: FutureWarning: Passing a negative integer is deprecated in version 1.0 and will not be supported in future version. Instead, use None to not limit the column width.\n",
      "  pd.set_option('display.max_colwidth', -1)\n"
     ]
    },
    {
     "data": {
      "text/plain": [
       "Product             B07D2LC8LH                                                                                                                          \n",
       "Rating              1                                                                                                                                   \n",
       "Body                Not at all what I thought they would be. They are very light and when you write on something over night to dry it doesn’t. It smears\n",
       "Positively Rated    0                                                                                                                                   \n",
       "Name: 2620, dtype: object"
      ]
     },
     "execution_count": 185,
     "metadata": {},
     "output_type": "execute_result"
    }
   ],
   "source": [
    "pd.set_option('display.max_colwidth', -1)\n",
    "df.iloc[2483]"
   ]
  },
  {
   "cell_type": "code",
   "execution_count": 164,
   "metadata": {},
   "outputs": [
    {
     "data": {
      "image/png": "[encoded data removed]",
      "text/plain": [
       "<Figure size 432x288 with 2 Axes>"
      ]
     },
     "metadata": {
      "needs_background": "light"
     },
     "output_type": "display_data"
    }
   ],
   "source": [
    "disp = metrics.plot_confusion_matrix(model, X_test_vectorized, y_test,\n",
    "                                 display_labels=['Class 0', 'Class 1'],\n",
    "                                 cmap=plt.cm.Blues,\n",
    "                                 normalize='true')\n",
    "disp.ax_.set_title('Logistic Regression Confusion matrix, with normalization');"
   ]
  },
  {
   "cell_type": "code",
   "execution_count": null,
   "metadata": {},
   "outputs": [],
   "source": []
  },
  {
   "cell_type": "code",
   "execution_count": 157,
   "metadata": {},
   "outputs": [],
   "source": [
    "feature_importance = model.coef_[0]\n",
    "sorted_idx = np.argsort(feature_importance)"
   ]
  },
  {
   "cell_type": "code",
   "execution_count": 158,
   "metadata": {},
   "outputs": [
    {
     "name": "stdout",
     "output_type": "stream",
     "text": [
      "['love', 'great', 'perfect', 'easy', 'good', 'bien', 'nice', 'awesome', 'colori', 'excellent']\n"
     ]
    }
   ],
   "source": [
    "top_10_pos_w = [list(vect.vocabulary_.keys())[list(vect.vocabulary_.values()).index(w)] for w in sorted_idx[range(-1,-11, -1)]]\n",
    "print(top_10_pos_w)"
   ]
  },
  {
   "cell_type": "markdown",
   "metadata": {},
   "source": [
    "# Adding len and running again bad idea"
   ]
  },
  {
   "cell_type": "code",
   "execution_count": 165,
   "metadata": {},
   "outputs": [
    {
     "name": "stdout",
     "output_type": "stream",
     "text": [
      "Smallest Coefs:\n",
      "['non' 'not' 'pas' 'never' 'don work' 'return' 'half' 'disappointed'\n",
      " 'wasn' 'nicht' 'paint is' 'cheap' 'splatter' 'terrible' 'returned'\n",
      " 'very disappointed' 'transparent' 'idea' 'useless' 'bad' 'not work'\n",
      " 'thought' 'not what' 'dried' 'at all' 'would not' 'every' 'permanent'\n",
      " 'stick' 'all over']\n",
      "\n",
      "Largest Coefs: \n",
      "['love' 'great' 'perfect' 'easy' 'good' 'bien' 'colori' 'nice' 'awesome'\n",
      " 'excellent' 'better than' 'best' 'easy to' 'super' 'well' 'fun' 'me'\n",
      " 'amazing' 'purchase' 'works' 'liked' 'lovely' 'that' 'going' 'flowing'\n",
      " 'fantastic' 'fine' 'beautifully' 'need' 'loved']\n"
     ]
    }
   ],
   "source": [
    "feature_names = np.array(vect.get_feature_names())\n",
    "\n",
    "sorted_coef_index = model.coef_[0].argsort()\n",
    "\n",
    "print('Smallest Coefs:\\n{}\\n'.format(feature_names[sorted_coef_index[:30]]))\n",
    "print('Largest Coefs: \\n{}'.format(feature_names[sorted_coef_index[:-31:-1]]))"
   ]
  },
  {
   "cell_type": "code",
   "execution_count": 47,
   "metadata": {},
   "outputs": [
    {
     "name": "stdout",
     "output_type": "stream",
     "text": [
      "[0 1]\n"
     ]
    }
   ],
   "source": [
    "print(model.predict(vect.transform(['markers are bad',\n",
    "                                    'nice for painting'])))"
   ]
  },
  {
   "cell_type": "code",
   "execution_count": 84,
   "metadata": {},
   "outputs": [],
   "source": [
    "dummy_majority = DummyClassifier(strategy = 'stratified').fit(X_train_vectorized, y_train)"
   ]
  },
  {
   "cell_type": "code",
   "execution_count": 85,
   "metadata": {},
   "outputs": [],
   "source": [
    "y_dummy_predictions = dummy_majority.predict(vect.transform(X_test))"
   ]
  },
  {
   "cell_type": "code",
   "execution_count": 86,
   "metadata": {},
   "outputs": [
    {
     "name": "stdout",
     "output_type": "stream",
     "text": [
      "AUC:  0.49612651973032207\n"
     ]
    }
   ],
   "source": [
    "print('AUC: ', roc_auc_score(y_test, y_dummy_predictions))"
   ]
  },
  {
   "cell_type": "markdown",
   "metadata": {},
   "source": [
    "# NLTK"
   ]
  },
  {
   "cell_type": "code",
   "execution_count": null,
   "metadata": {},
   "outputs": [],
   "source": []
  }
 ],
 "metadata": {
  "kernelspec": {
   "display_name": "Python 3",
   "language": "python",
   "name": "python3"
  },
  "language_info": {
   "codemirror_mode": {
    "name": "ipython",
    "version": 3
   },
   "file_extension": ".py",
   "mimetype": "text/x-python",
   "name": "python",
   "nbconvert_exporter": "python",
   "pygments_lexer": "ipython3",
   "version": "3.8.3"
  }
 },
 "nbformat": 4,
 "nbformat_minor": 4
}
